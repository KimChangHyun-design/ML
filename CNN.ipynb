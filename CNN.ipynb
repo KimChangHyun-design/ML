{
 "cells": [
  {
   "cell_type": "code",
   "execution_count": 1,
   "metadata": {},
   "outputs": [
    {
     "name": "stdout",
     "output_type": "stream",
     "text": [
      "x_train shape: (60000, 28, 28)\n",
      "60000 train samples\n",
      "10000 test samples\n",
      "Model: \"sequential\"\n",
      "_________________________________________________________________\n",
      " Layer (type)                Output Shape              Param #   \n",
      "=================================================================\n",
      " flatten (Flatten)           (None, 784)               0         \n",
      "                                                                 \n",
      " dense (Dense)               (None, 200)               157000    \n",
      "                                                                 \n",
      " dense_1 (Dense)             (None, 10)                2010      \n",
      "                                                                 \n",
      "=================================================================\n",
      "Total params: 159,010\n",
      "Trainable params: 159,010\n",
      "Non-trainable params: 0\n",
      "_________________________________________________________________\n",
      "Epoch 1/10\n",
      "469/469 [==============================] - 2s 4ms/step - loss: 0.3000 - accuracy: 0.9162 - val_loss: 0.1727 - val_accuracy: 0.9489\n",
      "Epoch 2/10\n",
      "469/469 [==============================] - 2s 4ms/step - loss: 0.1351 - accuracy: 0.9597 - val_loss: 0.1119 - val_accuracy: 0.9674\n",
      "Epoch 3/10\n",
      "469/469 [==============================] - 2s 3ms/step - loss: 0.0940 - accuracy: 0.9721 - val_loss: 0.1030 - val_accuracy: 0.9684\n",
      "Epoch 4/10\n",
      "469/469 [==============================] - 2s 5ms/step - loss: 0.0716 - accuracy: 0.9790 - val_loss: 0.0877 - val_accuracy: 0.9732\n",
      "Epoch 5/10\n",
      "469/469 [==============================] - 2s 4ms/step - loss: 0.0568 - accuracy: 0.9835 - val_loss: 0.0757 - val_accuracy: 0.9763\n",
      "Epoch 6/10\n",
      "469/469 [==============================] - 2s 5ms/step - loss: 0.0466 - accuracy: 0.9865 - val_loss: 0.0900 - val_accuracy: 0.9725\n",
      "Epoch 7/10\n",
      "469/469 [==============================] - 2s 4ms/step - loss: 0.0388 - accuracy: 0.9884 - val_loss: 0.0740 - val_accuracy: 0.9756\n",
      "Epoch 8/10\n",
      "469/469 [==============================] - 2s 4ms/step - loss: 0.0323 - accuracy: 0.9910 - val_loss: 0.0712 - val_accuracy: 0.9796\n",
      "Epoch 9/10\n",
      "469/469 [==============================] - 2s 3ms/step - loss: 0.0270 - accuracy: 0.9921 - val_loss: 0.0761 - val_accuracy: 0.9769\n",
      "Epoch 10/10\n",
      "469/469 [==============================] - 2s 4ms/step - loss: 0.0227 - accuracy: 0.9937 - val_loss: 0.0774 - val_accuracy: 0.9766\n"
     ]
    }
   ],
   "source": [
    "import numpy as np\n",
    "import matplotlib.pyplot as plt\n",
    "\n",
    "import keras\n",
    "from keras.datasets import mnist\n",
    "\n",
    "from keras.models import Sequential\n",
    "from keras.layers import Dense, Dropout, Flatten\n",
    "from keras.layers.convolutional import Conv2D\n",
    "\n",
    "# read\n",
    "(x_train, y_train), (x_test, y_test) = mnist.load_data()\n",
    "\n",
    "# x_train = N x row x col\n",
    "img_rows = x_train.shape[1] # 28\n",
    "img_cols = x_train.shape[2] # 28\n",
    "\n",
    "batch_size = 128 # mini-batch의 크기, 전체 batch 크기는 6만개 \n",
    "num_classes = 10 # class의 개수\n",
    "epochs = 10 # epoch을 몇번 돌건지\n",
    "\n",
    "# preprocess\n",
    "x_train = x_train.reshape(x_train.shape[0], img_rows, img_cols)\n",
    "x_test = x_test.reshape(x_test.shape[0], img_rows, img_cols)\n",
    "\n",
    "# 0에서 1사이 실수로 바꿔줌\n",
    "x_train = x_train.astype('float32') / 255.\n",
    "x_test = x_test.astype('float32') / 255.\n",
    "\n",
    "print('x_train shape:', x_train.shape)\n",
    "print(x_train.shape[0], 'train samples')\n",
    "print(x_test.shape[0], 'test samples')\n",
    "\n",
    "# onehot coding 으로 바꿈\n",
    "y_train = keras.utils.np_utils.to_categorical(y_train, num_classes)\n",
    "y_test = keras.utils.np_utils.to_categorical(y_test, num_classes)\n",
    "\n",
    "# MLP model\n",
    "model = Sequential() \n",
    "#Flatten 은 행렬을 벡터로 만들어줌\n",
    "model.add(Flatten(input_shape = (img_rows,img_cols))) # 2D image -> 1D vector\n",
    "model.add(Dense(200, activation = 'relu'))\n",
    "model.add(Dense(num_classes, activation = 'softmax'))\n",
    "model.summary()\n",
    "\n",
    "# learning, verbose는 매번 출력하는것\n",
    "model.compile(loss = 'categorical_crossentropy', metrics = ['accuracy'])\n",
    "hist = model.fit(x_train, y_train, batch_size = batch_size, epochs = epochs,\n",
    "                 verbose = 1, validation_data = (x_test, y_test))"
   ]
  },
  {
   "cell_type": "code",
   "execution_count": 2,
   "metadata": {},
   "outputs": [
    {
     "name": "stdout",
     "output_type": "stream",
     "text": [
      "1/1 [==============================] - 0s 77ms/step\n",
      "The Answer is  [9]\n"
     ]
    },
    {
     "data": {
      "image/png": "[encoded data removed]",
      "text/plain": [
       "<Figure size 400x400 with 1 Axes>"
      ]
     },
     "metadata": {},
     "output_type": "display_data"
    }
   ],
   "source": [
    "n = np.random.randint(0,10000,1)\n",
    "\n",
    "plt.figure(figsize = (4,4))\n",
    "plt.imshow(x_test[n].reshape(28, 28), cmap = 'gray')\n",
    "\n",
    "print('The Answer is ', np.argmax(model.predict(x_test[n]), axis = -1))"
   ]
  },
  {
   "cell_type": "code",
   "execution_count": 4,
   "metadata": {
    "scrolled": true
   },
   "outputs": [
    {
     "name": "stdout",
     "output_type": "stream",
     "text": [
      "x_train shape: (60000, 28, 28, 1)\n",
      "60000 train samples\n",
      "10000 test samples\n",
      "Model: \"sequential_2\"\n",
      "_________________________________________________________________\n",
      " Layer (type)                Output Shape              Param #   \n",
      "=================================================================\n",
      " conv2d_2 (Conv2D)           (None, 4, 7, 20)          340       \n",
      "                                                                 \n",
      " conv2d_3 (Conv2D)           (None, 1, 2, 50)          16050     \n",
      "                                                                 \n",
      " flatten_2 (Flatten)         (None, 100)               0         \n",
      "                                                                 \n",
      " dense_4 (Dense)             (None, 100)               10100     \n",
      "                                                                 \n",
      " dense_5 (Dense)             (None, 10)                1010      \n",
      "                                                                 \n",
      "=================================================================\n",
      "Total params: 27,500\n",
      "Trainable params: 27,500\n",
      "Non-trainable params: 0\n",
      "_________________________________________________________________\n",
      "Epoch 1/5\n",
      "469/469 [==============================] - 2s 4ms/step - loss: 0.5537 - accuracy: 0.8401 - val_loss: 0.2541 - val_accuracy: 0.9236\n",
      "Epoch 2/5\n",
      "469/469 [==============================] - 2s 4ms/step - loss: 0.2273 - accuracy: 0.9302 - val_loss: 0.1716 - val_accuracy: 0.9488\n",
      "Epoch 3/5\n",
      "469/469 [==============================] - 2s 4ms/step - loss: 0.1681 - accuracy: 0.9474 - val_loss: 0.1428 - val_accuracy: 0.9543\n",
      "Epoch 4/5\n",
      "469/469 [==============================] - 2s 4ms/step - loss: 0.1391 - accuracy: 0.9558 - val_loss: 0.1314 - val_accuracy: 0.9588\n",
      "Epoch 5/5\n",
      "469/469 [==============================] - 2s 4ms/step - loss: 0.1205 - accuracy: 0.9614 - val_loss: 0.1182 - val_accuracy: 0.9611\n"
     ]
    }
   ],
   "source": [
    "# read\n",
    "batch_size = 128 # mini-batch의 크기\n",
    "num_classes = 10 # class의 개수\n",
    "epochs = 5 # epoch을 몇번 돌건지\n",
    "\n",
    "# preprocess, 흑백이라서 channel = 1 \n",
    "input_shape = (img_rows, img_cols, 1)\n",
    "\n",
    "x_train = x_train.reshape(x_train.shape[0], img_rows, img_cols, 1)\n",
    "x_test = x_test.reshape(x_test.shape[0], img_rows, img_cols, 1)\n",
    "\n",
    "print('x_train shape:', x_train.shape)\n",
    "print(x_train.shape[0], 'train samples')\n",
    "print(x_test.shape[0], 'test samples')\n",
    "\n",
    "# CNN model, conv2D는 2차원 컨볼류션 layer / 20의 의미는 kernel 20개 쓴다. \n",
    "model = Sequential()\n",
    "model.add(Conv2D(20, kernel_size = (4, 4), strides = (7, 4), padding = 'same', activation = 'relu',input_shape=input_shape))\n",
    "model.add(Conv2D(50, kernel_size = (4, 4), strides = (4, 4), padding = 'same', activation = 'relu'))\n",
    "model.add(Flatten())\n",
    "model.add(Dense(100, activation = 'relu'))\n",
    "model.add(Dense(num_classes, activation = 'softmax'))\n",
    "model.summary()\n",
    "# parameter 340인 이유 : {(4,4)kernel + bias 파라미터 1개} x 20\n",
    "# parameter 16050인 이유 : 20*50*16 + 50\n",
    "# output shape 은 한 그림에서 나오는 개수 의미 = channel\n",
    "\n",
    "model.compile(loss = 'categorical_crossentropy', metrics = ['accuracy'])\n",
    "hist = model.fit(x_train, y_train, batch_size = batch_size, epochs = epochs,\n",
    "                 verbose = 1, validation_data = (x_test, y_test))"
   ]
  },
  {
   "cell_type": "code",
   "execution_count": null,
   "metadata": {},
   "outputs": [],
   "source": [
    "n = np.random.randint(0,10000,1)\n",
    "\n",
    "plt.figure(figsize = (4,4))\n",
    "plt.imshow(x_test[n].reshape(28, 28), cmap = 'gray')\n",
    "\n",
    "print('The Answer is ', np.argmax(model.predict(x_test[n]), axis = -1))"
   ]
  }
 ],
 "metadata": {
  "kernelspec": {
   "display_name": "Python 3 (ipykernel)",
   "language": "python",
   "name": "python3"
  },
  "language_info": {
   "codemirror_mode": {
    "name": "ipython",
    "version": 3
   },
   "file_extension": ".py",
   "mimetype": "text/x-python",
   "name": "python",
   "nbconvert_exporter": "python",
   "pygments_lexer": "ipython3",
   "version": "3.9.15"
  }
 },
 "nbformat": 4,
 "nbformat_minor": 4
}
