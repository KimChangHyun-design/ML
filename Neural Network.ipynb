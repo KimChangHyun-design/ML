{
 "cells": [
  {
   "cell_type": "code",
   "execution_count": 1,
   "id": "697304d0",
   "metadata": {
    "colab": {
     "base_uri": "https://localhost:8080/"
    },
    "id": "697304d0",
    "outputId": "0c6ae3f3-0f26-44af-91f0-2d17e7c840e7"
   },
   "outputs": [
    {
     "name": "stdout",
     "output_type": "stream",
     "text": [
      "(60000, 31)\n"
     ]
    }
   ],
   "source": [
    "import numpy as np\n",
    "import matplotlib.pyplot as plt\n",
    "\n",
    "from sklearn import tree\n",
    "from sklearn import svm\n",
    "\n",
    "from keras.datasets import mnist\n",
    "\n",
    "# 손글씨 이미지 데이터셋 784 x 1짜리 벡터로 변환 = 28 x 28 pixel로 이루어진 손글씨 이미지\n",
    "((x_train, y_train), (x_test, y_test)) = mnist.load_data()\n",
    "\n",
    "X_train = x_train.reshape(-1,28*28)\n",
    "X_test = x_test.reshape(-1,28*28)\n",
    "\n",
    "N_train,D = X_train.shape\n",
    "N_test,D = X_test.shape\n",
    "\n",
    "# dimensional reduction (PCA)\n",
    "# covariance\n",
    "mu = np.mean(X_train, axis = 0)\n",
    "C = X_train - mu\n",
    "C = (1/N_train) * C.T.dot(C)\n",
    "\n",
    "# SVD: C = U*S*V^T\n",
    "U, s, V = np.linalg.svd(C, full_matrices = True)\n",
    "S = np.diag(s)\n",
    "V = V.T\n",
    "\n",
    "# 전체 입력 차원 784 중에서, 차원을 축소해서 사용\n",
    "D_reduce = 30\n",
    "X_train = X_train.dot(V[:,0:D_reduce]) # N_train x D_reduce\n",
    "X_test = X_test.dot(V[:,0:D_reduce]) # N_train x D_reduce\n",
    "# V로 하나 U로 하나 상관 없다\n",
    "\n",
    "X_train = np.hstack([np.ones((N_train,1)),X_train])\n",
    "X_test = np.hstack([np.ones((N_test,1)),X_test])\n",
    "\n",
    "print(X_train.shape)\n",
    "# one-of-K coding\n",
    "num = np.unique(y_train, axis = 0)\n",
    "num = num.shape[0]\n",
    "\n",
    "t_train = np.eye(num)[y_train]\n",
    "t_test = np.eye(num)[y_test]"
   ]
  },
  {
   "cell_type": "code",
   "execution_count": 2,
   "id": "76c7fb1a",
   "metadata": {
    "colab": {
     "base_uri": "https://localhost:8080/"
    },
    "id": "76c7fb1a",
    "outputId": "cb0af8a9-9527-4683-b5c9-c914bc3d07cf"
   },
   "outputs": [
    {
     "name": "stdout",
     "output_type": "stream",
     "text": [
      "(31, 100)\n",
      "(100, 1000)\n",
      "(1000, 10)\n"
     ]
    }
   ],
   "source": [
    "# parameter\n",
    "M = np.array([X_train.shape[1],100,1000,10]) # 각 layer 뉴런들의 마다 개수\n",
    "\n",
    "# 맨 마지막 10은 클래스 개수\n",
    "L = M.shape[0] - 1\n",
    "# layer 층 개수\n",
    "\n",
    "eta = 1e-5\n",
    "maxEpoch = 30\n",
    "\n",
    "# initialize parameter\n",
    "W = []\n",
    "# W[0] = 31 x 100 / W[1] = 100 x 1000 / W[2] = 1000 x 10\n",
    "for l in range(L):\n",
    "    W.append(np.random.randn(M[l],M[l + 1]))\n",
    "    print(W[l].shape)"
   ]
  },
  {
   "cell_type": "code",
   "execution_count": 3,
   "id": "4277251d",
   "metadata": {
    "id": "4277251d"
   },
   "outputs": [
    {
     "name": "stdout",
     "output_type": "stream",
     "text": [
      "31\n",
      "100\n",
      "1000\n"
     ]
    }
   ],
   "source": [
    "# activation function\n",
    "def act(x):\n",
    "    return np.tanh(x)\n",
    "\n",
    "#activation fuction의 미분\n",
    "def dact(x):\n",
    "    return 1 - np.tanh(x)**2\n",
    "\n",
    "#그냥 softmax 기능을 한다 정도로만 보자\n",
    "# softmax, 출력 벡터다.\n",
    "def softmax(x):    \n",
    "    \n",
    "    if x.ndim == 1:\n",
    "        f_x = np.exp(x)\n",
    "        return f_x / np.sum(f_x)\n",
    "    \n",
    "    elif x.ndim == 2:\n",
    "        max = np.max(x,axis = 1,keepdims = True)\n",
    "        e_x = np.exp(x - max)\n",
    "        sum = np.sum(e_x,axis = 1,keepdims = True)\n",
    "        f_x = e_x / sum \n",
    "        return f_x\n",
    "\n",
    "# cross entropy\n",
    "def cross_entropy(y,t):\n",
    "    N,K = y.shape\n",
    "    e = np.sum(- t * np.log(y), axis = 1)\n",
    "    e = np.mean(e)\n",
    "    \n",
    "    return e\n",
    "\n",
    "cost = []\n",
    "accuracy = []\n",
    "\n",
    "# initialize for a single input\n",
    "# forward propagation\n",
    "z_sample = []\n",
    "# z_sample[0] = 100개 ,z_sample[1] = 1000개, z_sample[2] = 10개\n",
    "a_sample = []\n",
    "# z_sample과 동일\n",
    "\n",
    "for l in range(L):    \n",
    "    z_sample.append(np.zeros((1,M[l + 1])))\n",
    "    a_sample.append(np.zeros((1,M[l + 1])))    \n",
    "# y값을 pred_sample로 표현    \n",
    "pred_sample = softmax(z_sample[-1])    \n",
    "\n",
    "# backpropagation\n",
    "delta = []\n",
    "# delta == local gradient\n",
    "for l in np.arange(L):    \n",
    "    delta.append(np.zeros((M[l],1)))\n",
    "\n",
    "# initialize for entire inputs\n",
    "# forward propagation\n",
    "z_train = []\n",
    "a_train = []\n",
    "\n",
    "# z_train[0], a_train[0] = N X 100\n",
    "# z_train[1], a_train[1] = N X 1000\n",
    "# z_train[2], a_train[2] = N X 10\n",
    "\n",
    "for l in range(L):    \n",
    "    z_train.append(np.zeros((N_train,M[l + 1])))\n",
    "    a_train.append(np.zeros((N_train,M[l + 1])))    \n",
    "pred_train = softmax(z_train[-1])    \n",
    "print(len(delta[0]))\n",
    "print(len(delta[1]))\n",
    "print(len(delta[2]))"
   ]
  },
  {
   "cell_type": "code",
   "execution_count": 42,
   "id": "8ce53e9f",
   "metadata": {},
   "outputs": [
    {
     "name": "stdout",
     "output_type": "stream",
     "text": [
      "[-2722.22815131 -2532.3313875   2547.41936925  1849.91651094\n",
      "   786.56984013   217.24802067  2535.0716649   -505.88060473\n",
      "  4010.7666598   1899.63482977  5447.93887022  3014.76881527\n",
      "  2995.70612543  6696.3166567   4706.23696441   731.83847051\n",
      "  1727.187296    1820.1128956   -793.8685462   2189.40539233\n",
      "  3658.23752911  2886.06027186   877.66726433 -3083.37163779\n",
      " -2472.26258674  2832.52190595  2246.32055267   626.8724918\n",
      "  4773.16906939   -43.24686063  3197.80884672  4214.70291384\n",
      " -1520.96923918  2694.55774575 -3242.1342312   3904.09416329\n",
      "   554.12272495  3860.44461806   424.39297457 -2754.57106122\n",
      "  3014.20590351  3298.504015   -2210.788633    1606.24395479\n",
      "  2424.21110158  1460.45423602  2416.48641385  1886.25572023\n",
      " -1386.2017931    942.45388107 -1140.51540196  1240.51619282\n",
      "  5227.06613354 -2776.84041239  2990.96905041  2307.87393949\n",
      "  5014.82079029  1862.60812138  2061.14125849  1588.02145959\n",
      "  6371.91759224 -2030.45017977  1406.87179634  1756.21528428\n",
      "  1701.47492403 -2023.43670346  2046.86743149  3694.76166831\n",
      "   250.4414553   8441.27785458    86.9031766    445.19499999\n",
      " -3337.6705626  -2713.93653913  1510.94266759   102.9235383\n",
      " -4169.89806287 -2089.2257279  -6268.49949743  2293.29853299\n",
      " -3146.6145509   -797.12479636  2071.55302719  -847.86085652\n",
      "  3309.4201051  -2008.4373085   1913.4965745  -2719.60661649\n",
      " -3715.96094105 -3825.64208682  6066.95533405 -1449.05325843\n",
      " -4234.78792066   110.60648405 -3890.20182684  1830.57339763\n",
      " -1787.0510579  -3004.43815079  1048.19985152   983.17492546]\n",
      "100\n"
     ]
    }
   ],
   "source": [
    "print(z_sample[0])\n",
    "print(len(delta[0]))"
   ]
  },
  {
   "cell_type": "code",
   "execution_count": 4,
   "id": "floppy-wallpaper",
   "metadata": {
    "colab": {
     "base_uri": "https://localhost:8080/",
     "height": 279
    },
    "id": "floppy-wallpaper",
    "outputId": "66154115-4dbf-4ea9-a373-027615c04f68"
   },
   "outputs": [
    {
     "name": "stdout",
     "output_type": "stream",
     "text": [
      "[epoch 0] cross entropy: 20.7944, accuracy: 0.3094\n",
      "[epoch 1] cross entropy: 16.0892, accuracy: 0.3866\n",
      "[epoch 2] cross entropy: 12.9195, accuracy: 0.4700\n",
      "[epoch 3] cross entropy: 11.3682, accuracy: 0.5102\n",
      "[epoch 4] cross entropy: 10.2953, accuracy: 0.5437\n",
      "[epoch 5] cross entropy: 8.8480, accuracy: 0.5834\n",
      "[epoch 6] cross entropy: 8.4078, accuracy: 0.5953\n",
      "[epoch 7] cross entropy: 8.6908, accuracy: 0.5816\n",
      "[epoch 8] cross entropy: 8.5835, accuracy: 0.5645\n",
      "[epoch 9] cross entropy: 7.4558, accuracy: 0.6115\n",
      "[epoch 10] cross entropy: 7.1034, accuracy: 0.6252\n",
      "[epoch 11] cross entropy: 7.1087, accuracy: 0.6323\n",
      "[epoch 12] cross entropy: 6.8651, accuracy: 0.6234\n",
      "[epoch 13] cross entropy: 6.4846, accuracy: 0.6441\n",
      "[epoch 14] cross entropy: 6.3767, accuracy: 0.6571\n",
      "[epoch 15] cross entropy: 6.3532, accuracy: 0.6579\n",
      "[epoch 16] cross entropy: 5.9771, accuracy: 0.6741\n",
      "[epoch 17] cross entropy: 5.7069, accuracy: 0.6831\n",
      "[epoch 18] cross entropy: 5.8683, accuracy: 0.6792\n",
      "[epoch 19] cross entropy: 5.4332, accuracy: 0.6964\n",
      "[epoch 20] cross entropy: 5.3105, accuracy: 0.7001\n",
      "[epoch 21] cross entropy: 5.3412, accuracy: 0.6987\n",
      "[epoch 22] cross entropy: 5.0150, accuracy: 0.7104\n",
      "[epoch 23] cross entropy: 5.1751, accuracy: 0.7004\n",
      "[epoch 24] cross entropy: 4.8288, accuracy: 0.7121\n",
      "[epoch 25] cross entropy: 4.5756, accuracy: 0.7280\n",
      "[epoch 26] cross entropy: 4.5196, accuracy: 0.7288\n",
      "[epoch 27] cross entropy: 4.6732, accuracy: 0.7190\n",
      "[epoch 28] cross entropy: 4.7863, accuracy: 0.7206\n",
      "[epoch 29] cross entropy: 4.6887, accuracy: 0.7271\n",
      "100\n"
     ]
    }
   ],
   "source": [
    "# stochastic gradient descent\n",
    "for epoch in range(maxEpoch):\n",
    "    # 순서를 섞는 것\n",
    "    N_perm = np.random.permutation(N_train)    \n",
    "    \n",
    "    \n",
    "    for n in range(N_train):        \n",
    "        W_new = W      \n",
    "        ### forward propagation: input layer\n",
    "        # 현재 시점에서 입력값 = X_train[N_perm[n],:]\n",
    "        z_sample[0] = X_train[N_perm[n],:].dot(W[0])\n",
    "        a_sample[0] = act(z_sample[0])\n",
    "\n",
    "        # propagation: 나머지 layer\n",
    "        for l in range(L - 1):    \n",
    "            z_sample[l + 1] = a_sample[l].dot(W[l + 1])\n",
    "            a_sample[l + 1] = act(z_sample[l + 1])\n",
    "\n",
    "        # output layer\n",
    "        pred_sample = softmax(z_sample[-1])\n",
    "    \n",
    "        ### backpropagation\n",
    "        # output layer, local gradient\n",
    "        delta[L - 1] = -(t_train[N_perm[n],:] - pred_sample)\n",
    "\n",
    "        # propagation, 각각의 local gradient 다 구함\n",
    "        for l in np.arange(L - 1,1,-1):\n",
    "            delta[l - 1] = W[l].dot(delta[l]) * dact(z_sample[l - 1])         \n",
    "        \n",
    "        # input layer, 굳이 바깥으로 빼는 이유가 있나?        \n",
    "        delta[0] = W[1].dot(delta[1]) * dact(z_sample[0])\n",
    "\n",
    "        ### update, 굳이 바깥으로 빼는 이유가 있나?\n",
    "        W_new[L - 1] = W_new[L - 1] - eta*a_sample[L - 2].reshape(-1,1).dot(delta[L - 1].reshape(1,-1))\n",
    "        for l in np.arange(L - 1,1,-1):\n",
    "            W_new[l - 1] = W_new[l - 1] - eta*a_sample[l - 2].reshape(-1,1).dot(delta[l - 1].reshape(1,-1))  \n",
    "        W_new[0] = W_new[0] - eta*X_train[N_perm[n],:].reshape(-1,1).dot(delta[0].reshape(1,-1))  \n",
    "        W = W_new\n",
    "\n",
    "    # forward propagation, 전체 샘플에 대해 진행한 것\n",
    "    z_train[0] = X_train.dot(W[0])\n",
    "    a_train[0] = act(z_train[0])\n",
    "\n",
    "    for l in range(L - 1):    \n",
    "        z_train[l + 1] = a_train[l].dot(W[l + 1])\n",
    "        a_train[l + 1] = act(z_train[l + 1])\n",
    "\n",
    "    pred_train = softmax(z_train[-1])\n",
    "\n",
    "    # performance\n",
    "    cost.append(cross_entropy(pred_train,t_train))\n",
    "    accuracy.append(np.sum(y_train == np.argmax(pred_train, axis = 1)) / N_train)\n",
    "    \n",
    "    print('[epoch %d] cross entropy: %.4f, accuracy: %.4f'%(epoch,cost[-1],accuracy[-1]))  \n",
    "\n",
    "print(len(delta[0]))"
   ]
  },
  {
   "cell_type": "code",
   "execution_count": 45,
   "id": "22d0f9bd",
   "metadata": {},
   "outputs": [
    {
     "name": "stdout",
     "output_type": "stream",
     "text": [
      "10\n",
      "1000\n",
      "100\n"
     ]
    }
   ],
   "source": [
    "print(len(delta[2]))\n",
    "print(len(delta[1]))\n",
    "print(len(delta[0]))"
   ]
  },
  {
   "cell_type": "code",
   "execution_count": 5,
   "id": "moral-appeal",
   "metadata": {
    "id": "moral-appeal"
   },
   "outputs": [
    {
     "data": {
      "text/plain": [
       "Text(0, 0.5, 'accuracy')"
      ]
     },
     "execution_count": 5,
     "metadata": {},
     "output_type": "execute_result"
    },
    {
     "data": {
      "image/png": "[encoded data removed]",
      "text/plain": [
       "<Figure size 800x800 with 2 Axes>"
      ]
     },
     "metadata": {},
     "output_type": "display_data"
    }
   ],
   "source": [
    "plt.figure(figsize = (8,8))\n",
    "plt.subplot(2,1,1)\n",
    "plt.plot(cost)\n",
    "plt.xlabel('epoch')\n",
    "plt.ylabel('cross entropy')\n",
    "plt.subplot(2,1,2)\n",
    "plt.plot(accuracy)\n",
    "plt.xlabel('epoch')\n",
    "plt.ylabel('accuracy')"
   ]
  },
  {
   "cell_type": "code",
   "execution_count": 6,
   "id": "eb4f5638",
   "metadata": {
    "id": "eb4f5638"
   },
   "outputs": [
    {
     "name": "stdout",
     "output_type": "stream",
     "text": [
      "Model: \"sequential\"\n",
      "_________________________________________________________________\n",
      " Layer (type)                Output Shape              Param #   \n",
      "=================================================================\n",
      " dense (Dense)               (None, 100)               3100      \n",
      "                                                                 \n",
      " dense_1 (Dense)             (None, 1000)              100000    \n",
      "                                                                 \n",
      " dense_2 (Dense)             (None, 10)                10000     \n",
      "                                                                 \n",
      "=================================================================\n",
      "Total params: 113,100\n",
      "Trainable params: 113,100\n",
      "Non-trainable params: 0\n",
      "_________________________________________________________________\n",
      "Epoch 1/30\n",
      "1875/1875 [==============================] - 2s 983us/step - loss: 2.4054 - accuracy: 0.1576\n",
      "Epoch 2/30\n",
      "1875/1875 [==============================] - 2s 974us/step - loss: 2.2392 - accuracy: 0.2207\n",
      "Epoch 3/30\n",
      "1875/1875 [==============================] - 2s 949us/step - loss: 2.0943 - accuracy: 0.2840\n",
      "Epoch 4/30\n",
      "1875/1875 [==============================] - 2s 958us/step - loss: 1.9678 - accuracy: 0.3503\n",
      "Epoch 5/30\n",
      "1875/1875 [==============================] - 2s 945us/step - loss: 1.8574 - accuracy: 0.4145\n",
      "Epoch 6/30\n",
      "1875/1875 [==============================] - 2s 946us/step - loss: 1.7598 - accuracy: 0.4725\n",
      "Epoch 7/30\n",
      "1875/1875 [==============================] - 2s 946us/step - loss: 1.6728 - accuracy: 0.5232\n",
      "Epoch 8/30\n",
      "1875/1875 [==============================] - 2s 965us/step - loss: 1.5945 - accuracy: 0.5652\n",
      "Epoch 9/30\n",
      "1875/1875 [==============================] - 2s 949us/step - loss: 1.5234 - accuracy: 0.5991\n",
      "Epoch 10/30\n",
      "1875/1875 [==============================] - 2s 966us/step - loss: 1.4597 - accuracy: 0.6290\n",
      "Epoch 11/30\n",
      "1875/1875 [==============================] - 2s 964us/step - loss: 1.4021 - accuracy: 0.6522\n",
      "Epoch 12/30\n",
      "1875/1875 [==============================] - 2s 960us/step - loss: 1.3487 - accuracy: 0.6720\n",
      "Epoch 13/30\n",
      "1875/1875 [==============================] - 2s 974us/step - loss: 1.2994 - accuracy: 0.6897\n",
      "Epoch 14/30\n",
      "1875/1875 [==============================] - 2s 965us/step - loss: 1.2551 - accuracy: 0.7037\n",
      "Epoch 15/30\n",
      "1875/1875 [==============================] - 2s 953us/step - loss: 1.2142 - accuracy: 0.7151\n",
      "Epoch 16/30\n",
      "1875/1875 [==============================] - 2s 953us/step - loss: 1.1759 - accuracy: 0.7255\n",
      "Epoch 17/30\n",
      "1875/1875 [==============================] - 2s 953us/step - loss: 1.1406 - accuracy: 0.7349\n",
      "Epoch 18/30\n",
      "1875/1875 [==============================] - 2s 988us/step - loss: 1.1079 - accuracy: 0.7437\n",
      "Epoch 19/30\n",
      "1875/1875 [==============================] - 2s 967us/step - loss: 1.0771 - accuracy: 0.7507\n",
      "Epoch 20/30\n",
      "1875/1875 [==============================] - 2s 990us/step - loss: 1.0478 - accuracy: 0.7580\n",
      "Epoch 21/30\n",
      "1875/1875 [==============================] - 2s 956us/step - loss: 1.0210 - accuracy: 0.7646\n",
      "Epoch 22/30\n",
      "1875/1875 [==============================] - 2s 970us/step - loss: 0.9962 - accuracy: 0.7697\n",
      "Epoch 23/30\n",
      "1875/1875 [==============================] - 2s 965us/step - loss: 0.9727 - accuracy: 0.7757\n",
      "Epoch 24/30\n",
      "1875/1875 [==============================] - 2s 966us/step - loss: 0.9503 - accuracy: 0.7809\n",
      "Epoch 25/30\n",
      "1875/1875 [==============================] - 2s 966us/step - loss: 0.9294 - accuracy: 0.7855\n",
      "Epoch 26/30\n",
      "1875/1875 [==============================] - 2s 982us/step - loss: 0.9098 - accuracy: 0.7907\n",
      "Epoch 27/30\n",
      "1875/1875 [==============================] - 2s 979us/step - loss: 0.8913 - accuracy: 0.7951\n",
      "Epoch 28/30\n",
      "1875/1875 [==============================] - 2s 974us/step - loss: 0.8735 - accuracy: 0.7984\n",
      "Epoch 29/30\n",
      "1875/1875 [==============================] - 2s 972us/step - loss: 0.8568 - accuracy: 0.8027\n",
      "Epoch 30/30\n",
      "1875/1875 [==============================] - 2s 967us/step - loss: 0.8410 - accuracy: 0.8062\n"
     ]
    }
   ],
   "source": [
    "import keras\n",
    "from keras.models import Sequential\n",
    "from keras.layers import Dense\n",
    "\n",
    "num_classes = 10\n",
    "epochs = maxEpoch\n",
    "\n",
    "opt = keras.optimizers.SGD(learning_rate=eta, name=\"SGD\")\n",
    "\n",
    "# 하나의 모델인데 layer를 순서대로 쌓았다라는 의미로 받아들이자\n",
    "model = Sequential()\n",
    "#Dense 는 fully connected 뉴런의 개수는 100, 1000, 10개 넣었다 라는 의미\n",
    "# activation 함수로는 tanh\n",
    "# input \n",
    "model.add(Dense(100, activation='tanh', input_dim = X_train.shape[1], use_bias = True, kernel_initializer='random_normal'))\n",
    "model.add(Dense(1000, activation='tanh', use_bias = False, kernel_initializer='random_normal'))\n",
    "model.add(Dense(num_classes, activation='softmax', use_bias = False, kernel_initializer='random_normal'))\n",
    "model.summary()\n",
    "\n",
    "model.compile(loss = 'categorical_crossentropy', optimizer = opt, metrics = ['accuracy'])\n",
    "hist = model.fit(X_train, t_train, epochs = epochs, verbose = 1)"
   ]
  }
 ],
 "metadata": {
  "colab": {
   "provenance": []
  },
  "kernelspec": {
   "display_name": "Python 3 (ipykernel)",
   "language": "python",
   "name": "python3"
  },
  "language_info": {
   "codemirror_mode": {
    "name": "ipython",
    "version": 3
   },
   "file_extension": ".py",
   "mimetype": "text/x-python",
   "name": "python",
   "nbconvert_exporter": "python",
   "pygments_lexer": "ipython3",
   "version": "3.9.15"
  }
 },
 "nbformat": 4,
 "nbformat_minor": 5
}
